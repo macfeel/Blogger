{
  "nbformat": 4,
  "nbformat_minor": 0,
  "metadata": {
    "kernelspec": {
      "display_name": "Python 3",
      "language": "python",
      "name": "python3"
    },
    "language_info": {
      "codemirror_mode": {
        "name": "ipython",
        "version": 3
      },
      "file_extension": ".py",
      "mimetype": "text/x-python",
      "name": "python",
      "nbconvert_exporter": "python",
      "pygments_lexer": "ipython3",
      "version": "3.6.8"
    },
    "colab": {
      "name": "2_2_●maze_random_custom.ipynb",
      "provenance": [],
      "collapsed_sections": [],
      "toc_visible": true,
      "include_colab_link": true
    },
    "accelerator": "GPU"
  },
  "cells": [
    {
      "cell_type": "markdown",
      "metadata": {
        "id": "view-in-github",
        "colab_type": "text"
      },
      "source": [
        "<a href=\"https://colab.research.google.com/github/macfeel/Blogger/blob/main/2_2_%E2%97%8Fmaze_random_custom.ipynb\" target=\"_parent\"><img src=\"https://colab.research.google.com/assets/colab-badge.svg\" alt=\"Open In Colab\"/></a>"
      ]
    },
    {
      "cell_type": "markdown",
      "metadata": {
        "id": "SKBu9n97hyJD"
      },
      "source": [
        "### 「つくりながら学ぶ 深層強化学習」　2.2 迷路内をランダムに探索させる"
      ]
    },
    {
      "cell_type": "code",
      "metadata": {
        "id": "eT5pRZrjhyJM"
      },
      "source": [
        "# 使用するパッケージの宣言\n",
        "import numpy as np\n",
        "import matplotlib.pyplot as plt\n",
        "%matplotlib inline\n",
        "\n",
        "'''\n",
        "動画を作成する際に、アニメーションサイズが制限の20971520.0を超えて\n",
        "より大きなアニメーションを埋め込むことが確実な場合は、\n",
        "animation.embed_limit rcパラメーターをより大きな値(MB単位)に設定します。\n",
        "'''\n",
        "plt.rcParams['animation.embed_limit'] = 2**32"
      ],
      "execution_count": 1,
      "outputs": []
    },
    {
      "cell_type": "markdown",
      "metadata": {
        "id": "Bsl_IPIlfpuc"
      },
      "source": [
        "## 1.迷路を自動作成\r\n",
        "【参照】  \r\n",
        "[子供のために迷路を自動生成する](https://qiita.com/CLA180/items/adc318dcca6dfac60b23)"
      ]
    },
    {
      "cell_type": "code",
      "metadata": {
        "id": "Sfn0KE4TjwMO"
      },
      "source": [
        "def direction():\r\n",
        "  '''\r\n",
        "  進行方向を選択。\r\n",
        "  戻り値は順に「現在地の破壊壁方向」「進行部屋の壁破壊方向」「進行部屋の部屋番号」\r\n",
        "  '''\r\n",
        "  rand = np.random.randint(0, high=4)\r\n",
        "  if rand == 0: return 0, 2, -1 * MAZE_SIZE  # 上\r\n",
        "  if rand == 1: return 1, -1, 1  # 右\r\n",
        "  if rand == 2: return 2, 0, MAZE_SIZE  # 下\r\n",
        "  return -1, 1, -1  # 左"
      ],
      "execution_count": 2,
      "outputs": []
    },
    {
      "cell_type": "code",
      "metadata": {
        "id": "lREnrYlJ4p57"
      },
      "source": [
        "def check_cell(cells, c_cell, d_cell, dire):\r\n",
        "  ''' 進めるかチェック '''\r\n",
        "  # 進んだ部屋が迷路外かどうか\r\n",
        "  # 上下へのはみ出し\r\n",
        "  if d_cell < 0 or MAZE_CELL <= d_cell: return False\r\n",
        "  # 部屋番号+1が迷路サイズで割り切れる場合、右端の部屋。右には進めない。\r\n",
        "  if (c_cell+1) % MAZE_SIZE == 0 and dire == 1: return False\r\n",
        "  # 部屋番号+1が迷路サイズで割り、余り１の場合、左端の部屋。左には進めない。\r\n",
        "  if (c_cell+1) % MAZE_SIZE == 1 and dire == -1: return False\r\n",
        "  # 現在地部屋番号 = 進んだ部屋番号。同じ部屋の場合は処理しない\r\n",
        "  if cells[c_cell] == cells[d_cell]: return False\r\n",
        "  # それ以外は進める\r\n",
        "  return True"
      ],
      "execution_count": 3,
      "outputs": []
    },
    {
      "cell_type": "code",
      "metadata": {
        "id": "ehYZDyV-AoIu"
      },
      "source": [
        "def choice_cell_no(cells, c_cell, d_cell):\r\n",
        "  ''' 小さい方の部屋番号を取得 '''\r\n",
        "  if cells[c_cell] < cells[d_cell]:\r\n",
        "    return cells[c_cell], cells[d_cell]\r\n",
        "  return cells[d_cell], cells[c_cell]"
      ],
      "execution_count": 4,
      "outputs": []
    },
    {
      "cell_type": "code",
      "metadata": {
        "id": "sheIatgxAt69"
      },
      "source": [
        "def create_maze():\r\n",
        "  ''' 迷路を生成 '''\r\n",
        "  # 初期状態を生成\r\n",
        "  # [上, 右, 下, 左] = 1:壁 / 0:通路\r\n",
        "  lst_maze = np.ones([MAZE_CELL, 4])\r\n",
        "  # 部屋のナンバリング、最終的に全部0にする。\r\n",
        "  lst_cells = np.array([i for i in range(0, MAZE_CELL)])\r\n",
        "\r\n",
        "  while True:\r\n",
        "    # すべての部屋が番号0の時は処理終了\r\n",
        "    if np.sum(lst_cells) == 0: break\r\n",
        "\r\n",
        "    # 壁を破る元のセルを選択（現在地）\r\n",
        "    int_choice_cell = np.random.randint(0, high=MAZE_CELL)\r\n",
        "    # 既にスタート地点とつながっている（0）時は処理しない。\r\n",
        "    if lst_cells[int_choice_cell] == 0: continue\r\n",
        "\r\n",
        "    # 進行方向を選択\r\n",
        "    int_now_wall, int_direction_wall, int_direction = direction()\r\n",
        "    # 進んだときのセル\r\n",
        "    int_direction_cell = int_choice_cell + int_direction\r\n",
        "\r\n",
        "    # 値のチェック\r\n",
        "    if not check_cell(lst_cells, int_choice_cell, int_direction_cell, int_direction):\r\n",
        "      continue\r\n",
        "\r\n",
        "    # 部屋番号を確保\r\n",
        "    int_min_value, int_max_value = choice_cell_no(lst_cells, int_choice_cell, int_direction_cell)\r\n",
        "\r\n",
        "    # 小さい方の部屋番号に統一する\r\n",
        "    lst_cells[lst_cells == int_max_value] = int_min_value\r\n",
        "\r\n",
        "    # 壁も更新する\r\n",
        "    lst_maze[int_choice_cell][int_now_wall] = 0\r\n",
        "    lst_maze[int_direction_cell][int_direction_wall] = 0\r\n",
        "\r\n",
        "  return lst_maze "
      ],
      "execution_count": 5,
      "outputs": []
    },
    {
      "cell_type": "code",
      "metadata": {
        "colab": {
          "base_uri": "https://localhost:8080/"
        },
        "id": "RnGfUW4TcITQ",
        "outputId": "aa0595c3-bfa0-4415-f244-8c48dafd0068"
      },
      "source": [
        "MAZE_SIZE = int(input('maze size->'))  # 迷路の1辺の長さ\r\n",
        "MAZE_CELL = MAZE_SIZE * MAZE_SIZE  # 迷路のセル数"
      ],
      "execution_count": 6,
      "outputs": [
        {
          "output_type": "stream",
          "text": [
            "maze size->4\n"
          ],
          "name": "stdout"
        }
      ]
    },
    {
      "cell_type": "code",
      "metadata": {
        "colab": {
          "base_uri": "https://localhost:8080/"
        },
        "id": "fvosG2tBg4I0",
        "outputId": "9fcb4f91-c2e0-4260-d956-7ca4ab6fce34"
      },
      "source": [
        "# 迷路を生成\r\n",
        "MAZE_OUT = create_maze()\r\n",
        "\r\n",
        "print(MAZE_OUT)"
      ],
      "execution_count": 7,
      "outputs": [
        {
          "output_type": "stream",
          "text": [
            "[[1. 1. 0. 1.]\n",
            " [1. 0. 0. 1.]\n",
            " [1. 1. 1. 0.]\n",
            " [1. 1. 0. 1.]\n",
            " [0. 0. 1. 1.]\n",
            " [0. 0. 0. 0.]\n",
            " [1. 0. 0. 0.]\n",
            " [0. 1. 1. 0.]\n",
            " [1. 0. 1. 1.]\n",
            " [0. 1. 0. 0.]\n",
            " [0. 0. 0. 1.]\n",
            " [1. 1. 1. 0.]\n",
            " [1. 0. 1. 1.]\n",
            " [0. 1. 1. 0.]\n",
            " [0. 0. 1. 1.]\n",
            " [1. 1. 1. 0.]]\n"
          ],
          "name": "stdout"
        }
      ]
    },
    {
      "cell_type": "code",
      "metadata": {
        "id": "lRMLeP9KhyJO",
        "colab": {
          "base_uri": "https://localhost:8080/",
          "height": 269
        },
        "outputId": "67a79348-a04f-418d-b8be-34bc137704a3"
      },
      "source": [
        "# 初期位置での迷路の様子\n",
        "\n",
        "# 図を描く大きさと、図の変数名を宣言\n",
        "fig = plt.figure(figsize=(MAZE_SIZE, MAZE_SIZE))\n",
        "ax = plt.gca()\n",
        "\n",
        "# 状態を示す文字S0～S※を描く\n",
        "# 赤い壁を描く\n",
        "s_num =0\n",
        "for gyo in range(MAZE_SIZE):\n",
        "#for gyo in range(2):\n",
        "  for retu in range(MAZE_SIZE):\n",
        "  #for retu in range(1):\n",
        "   \n",
        "    plt.text(retu+0.5, MAZE_SIZE-gyo-0.5, 'S'+str(s_num), size=10, ha='center')\n",
        "\n",
        "    if MAZE_OUT[s_num,0] == 1:\n",
        "      #print\n",
        "      #print(gyo,retu,MAZE_OUT[s_num])\n",
        "      plt.plot([retu, retu+1], [MAZE_SIZE-gyo, MAZE_SIZE-gyo], color='red', linewidth=2)\n",
        "\n",
        "    if MAZE_OUT[s_num,1] == 1:\n",
        "      #print\n",
        "      #print(gyo,retu,MAZE_OUT[s_num])\n",
        "      plt.plot([retu+1, retu+1], [MAZE_SIZE-gyo-1, MAZE_SIZE-gyo], color='red', linewidth=2)\n",
        "\n",
        "    if MAZE_OUT[s_num,2] == 1:\n",
        "      #print\n",
        "      #print(gyo,retu,MAZE_OUT[s_num])\n",
        "      plt.plot([retu, retu+1], [MAZE_SIZE-gyo-1, MAZE_SIZE-gyo-1], color='red', linewidth=2)\n",
        "\n",
        "    if MAZE_OUT[s_num,3] == 1:\n",
        "      #print\n",
        "      #print(gyo,retu,MAZE_OUT[s_num])\n",
        "      plt.plot([retu, retu], [MAZE_SIZE-gyo-1, MAZE_SIZE-gyo], color='red', linewidth=2)\n",
        "\n",
        "    s_num += 1\n",
        "\n",
        "plt.plot([0, MAZE_SIZE], [0, 0], color='black', linewidth=3)\n",
        "plt.plot([MAZE_SIZE, MAZE_SIZE], [0, MAZE_SIZE], color='black', linewidth=3)\n",
        "plt.plot([0, MAZE_SIZE], [MAZE_SIZE, MAZE_SIZE], color='black', linewidth=3)\n",
        "plt.plot([0, 0], [MAZE_SIZE, 0], color='black', linewidth=3)\n",
        "\n",
        "plt.text(0.5, MAZE_SIZE-0.7, 'START', size=8,ha='center')\n",
        "plt.text(MAZE_SIZE-0.5, 0.2, 'GOAL', size=8,ha='center')\n",
        "\n",
        "# 描画範囲の設定と目盛りを消す設定\n",
        "ax.set_xlim(0, MAZE_SIZE)\n",
        "ax.set_ylim(0, MAZE_SIZE)\n",
        "plt.tick_params(axis='both', which='both', bottom='off', top='off',labelbottom='off', right='off', left='off', labelleft='off')\n",
        "\n",
        "# 現在地S0に緑丸を描画する\n",
        "line, = ax.plot([0.5], [MAZE_SIZE-0.5], marker=\"o\", color='g', markersize=30)"
      ],
      "execution_count": 8,
      "outputs": [
        {
          "output_type": "display_data",
          "data": {
            "image/png": "[encoded data removed]",
            "text/plain": [
              "<Figure size 288x288 with 1 Axes>"
            ]
          },
          "metadata": {
            "tags": [],
            "needs_background": "light"
          }
        }
      ]
    },
    {
      "cell_type": "markdown",
      "metadata": {
        "id": "dLBhMbuG1vHP"
      },
      "source": [
        "ーーーーーーーーーーーーーーーーーーーーーーーーーーーーーーーーーーーーーーーーーーーーーーーーーーーーーーーーーーーーー"
      ]
    },
    {
      "cell_type": "code",
      "metadata": {
        "id": "o1LyaTvdaOE7"
      },
      "source": [
        "MAZE_OUT = np.delete(MAZE_OUT, (MAZE_SIZE*MAZE_SIZE-1), axis=0)"
      ],
      "execution_count": 9,
      "outputs": []
    },
    {
      "cell_type": "code",
      "metadata": {
        "id": "pF2g0we1hyJQ"
      },
      "source": [
        "# # 初期の方策を決定するパラメータtheta_0を設定\n",
        "\n",
        "# # 行は状態0～7、列は移動方向で↑、→、↓、←を表す\n",
        "theta_0 = np.where(MAZE_OUT==1,np.nan,1)"
      ],
      "execution_count": 10,
      "outputs": []
    },
    {
      "cell_type": "code",
      "metadata": {
        "colab": {
          "base_uri": "https://localhost:8080/"
        },
        "id": "OqWlr9y3YCL7",
        "outputId": "a5116009-4472-4dfb-8054-d66ddf44a6cf"
      },
      "source": [
        "theta_0"
      ],
      "execution_count": 11,
      "outputs": [
        {
          "output_type": "execute_result",
          "data": {
            "text/plain": [
              "array([[nan, nan,  1., nan],\n",
              "       [nan,  1.,  1., nan],\n",
              "       [nan, nan, nan,  1.],\n",
              "       [nan, nan,  1., nan],\n",
              "       [ 1.,  1., nan, nan],\n",
              "       [ 1.,  1.,  1.,  1.],\n",
              "       [nan,  1.,  1.,  1.],\n",
              "       [ 1., nan, nan,  1.],\n",
              "       [nan,  1., nan, nan],\n",
              "       [ 1., nan,  1.,  1.],\n",
              "       [ 1.,  1.,  1., nan],\n",
              "       [nan, nan, nan,  1.],\n",
              "       [nan,  1., nan, nan],\n",
              "       [ 1., nan, nan,  1.],\n",
              "       [ 1.,  1., nan, nan]])"
            ]
          },
          "metadata": {
            "tags": []
          },
          "execution_count": 11
        }
      ]
    },
    {
      "cell_type": "code",
      "metadata": {
        "id": "7PMjfOnRhyJS"
      },
      "source": [
        "# 方策パラメータthetaを行動方策piに変換する関数の定義\n",
        "\n",
        "\n",
        "def simple_convert_into_pi_from_theta(theta):\n",
        "    '''単純に割合を計算する'''\n",
        "\n",
        "    [m, n] = theta.shape  # thetaの行列サイズを取得\n",
        "    pi = np.zeros((m, n))\n",
        "    for i in range(0, m):\n",
        "        pi[i, :] = theta[i, :] / np.nansum(theta[i, :])  # 割合の計算\n",
        "\n",
        "    pi = np.nan_to_num(pi)  # nanを0に変換\n",
        "\n",
        "    return pi\n"
      ],
      "execution_count": 12,
      "outputs": []
    },
    {
      "cell_type": "code",
      "metadata": {
        "id": "M_q-ZE4IhyJS"
      },
      "source": [
        "# 初期の方策pi_0を求める\n",
        "pi_0 = simple_convert_into_pi_from_theta(theta_0)\n"
      ],
      "execution_count": 13,
      "outputs": []
    },
    {
      "cell_type": "code",
      "metadata": {
        "id": "kJg0eK6phyJT",
        "colab": {
          "base_uri": "https://localhost:8080/"
        },
        "outputId": "10e50a88-b7cf-40df-c68d-9aea28f03c8e"
      },
      "source": [
        "# 初期の方策pi_0を表示\n",
        "pi_0"
      ],
      "execution_count": 14,
      "outputs": [
        {
          "output_type": "execute_result",
          "data": {
            "text/plain": [
              "array([[0.        , 0.        , 1.        , 0.        ],\n",
              "       [0.        , 0.5       , 0.5       , 0.        ],\n",
              "       [0.        , 0.        , 0.        , 1.        ],\n",
              "       [0.        , 0.        , 1.        , 0.        ],\n",
              "       [0.5       , 0.5       , 0.        , 0.        ],\n",
              "       [0.25      , 0.25      , 0.25      , 0.25      ],\n",
              "       [0.        , 0.33333333, 0.33333333, 0.33333333],\n",
              "       [0.5       , 0.        , 0.        , 0.5       ],\n",
              "       [0.        , 1.        , 0.        , 0.        ],\n",
              "       [0.33333333, 0.        , 0.33333333, 0.33333333],\n",
              "       [0.33333333, 0.33333333, 0.33333333, 0.        ],\n",
              "       [0.        , 0.        , 0.        , 1.        ],\n",
              "       [0.        , 1.        , 0.        , 0.        ],\n",
              "       [0.5       , 0.        , 0.        , 0.5       ],\n",
              "       [0.5       , 0.5       , 0.        , 0.        ]])"
            ]
          },
          "metadata": {
            "tags": []
          },
          "execution_count": 14
        }
      ]
    },
    {
      "cell_type": "code",
      "metadata": {
        "id": "sIk5JApchyJT"
      },
      "source": [
        "# 1step移動後の状態sを求める関数を定義\n",
        "\n",
        "\n",
        "def get_next_s(pi, s):\n",
        "    direction = [\"up\", \"right\", \"down\", \"left\"]\n",
        "\n",
        "    next_direction = np.random.choice(direction, p=pi[s, :])\n",
        "    # pi[s,:]の確率に従って、directionが選択される\n",
        "\n",
        "    if next_direction == \"up\":\n",
        "        s_next = s - MAZE_SIZE  # 上に移動するときは状態の数字がMAZE_SIZE分小さくなる\n",
        "    elif next_direction == \"right\":\n",
        "        s_next = s + 1  # 右に移動するときは状態の数字が1大きくなる\n",
        "    elif next_direction == \"down\":\n",
        "        s_next = s + MAZE_SIZE  # 下に移動するときは状態の数字がMAZE_SIZE分大きくなる\n",
        "    elif next_direction == \"left\":\n",
        "        s_next = s - 1  # 左に移動するときは状態の数字が1小さくなる\n",
        "\n",
        "    return s_next\n"
      ],
      "execution_count": 15,
      "outputs": []
    },
    {
      "cell_type": "code",
      "metadata": {
        "id": "TMgFHUVJhyJU"
      },
      "source": [
        "# 迷路内をエージェントがゴールするまで移動させる関数の定義\n",
        "\n",
        "\n",
        "def goal_maze(pi):\n",
        "    s = 0  # スタート地点\n",
        "    state_history = [0]  # エージェントの移動を記録するリスト\n",
        "\n",
        "    while (1):  # ゴールするまでループ\n",
        "        next_s = get_next_s(pi, s)\n",
        "        state_history.append(next_s)  # 記録リストに次の状態（エージェントの位置）を追加\n",
        "\n",
        "        if next_s == MAZE_SIZE*MAZE_SIZE-1:  # ゴール地点なら終了\n",
        "            break\n",
        "        else:\n",
        "            s = next_s\n",
        "\n",
        "    return state_history\n"
      ],
      "execution_count": 16,
      "outputs": []
    },
    {
      "cell_type": "code",
      "metadata": {
        "id": "BmLhEMcVhyJV",
        "colab": {
          "base_uri": "https://localhost:8080/"
        },
        "outputId": "ec3d76e0-99b8-4398-b732-0704461f68c1"
      },
      "source": [
        "%%time\n",
        "\n",
        "# 迷路内をゴールを目指して、移動\n",
        "state_history = goal_maze(pi_0)\n"
      ],
      "execution_count": 17,
      "outputs": [
        {
          "output_type": "stream",
          "text": [
            "CPU times: user 679 µs, sys: 116 µs, total: 795 µs\n",
            "Wall time: 1.26 ms\n"
          ],
          "name": "stdout"
        }
      ]
    },
    {
      "cell_type": "code",
      "metadata": {
        "id": "nYjsSzVLhyJV",
        "colab": {
          "base_uri": "https://localhost:8080/"
        },
        "outputId": "eb3d25c2-ea1a-4fd5-c261-a048d12f92eb"
      },
      "source": [
        "print(state_history)\n",
        "print(\"迷路を解くのにかかったステップ数は\" + str(len(state_history) - 1) + \"です\")\n"
      ],
      "execution_count": 18,
      "outputs": [
        {
          "output_type": "stream",
          "text": [
            "[0, 4, 0, 4, 5, 6, 10, 14, 15]\n",
            "迷路を解くのにかかったステップ数は8です\n"
          ],
          "name": "stdout"
        }
      ]
    },
    {
      "cell_type": "code",
      "metadata": {
        "id": "FVh__9pohyJW",
        "colab": {
          "base_uri": "https://localhost:8080/"
        },
        "outputId": "c94cbfa9-99a4-4d8f-bab9-8872c48e824f"
      },
      "source": [
        "%%time\n",
        "\n",
        "# エージェントの移動の様子を可視化します\n",
        "# 参考URL http://louistiao.me/posts/notebooks/embedding-matplotlib-animations-in-jupyter-notebooks/\n",
        "from matplotlib import animation\n",
        "from IPython.display import HTML\n",
        "\n",
        "\n",
        "def init():\n",
        "    '''背景画像の初期化'''\n",
        "    line.set_data([], [])\n",
        "    return (line,)\n",
        "\n",
        "\n",
        "def animate(i):\n",
        "    '''フレームごとの描画内容'''\n",
        "    state = state_history[i]  # 現在の場所を描く\n",
        "    #x = (state % 3) + 0.5  # 状態のx座標は、3で割った余り+0.5\n",
        "    x = (state % MAZE_SIZE) + 0.5  # 状態のx座標は、3で割った余り+0.5\n",
        "    #y = 2.5 - int(state / 3)  # y座標は3で割った商を2.5から引く\n",
        "    y = MAZE_SIZE-0.5 - int(state / MAZE_SIZE)  # y座標は3で割った商を2.5から引く\n",
        "    line.set_data(x, y)\n",
        "    return (line,)\n",
        "\n",
        "\n",
        "#　初期化関数とフレームごとの描画関数を用いて動画を作成する\n",
        "anim = animation.FuncAnimation(fig, animate, init_func=init, frames=len(\n",
        "    state_history), interval=200, repeat=False)\n",
        "\n",
        "HTML(anim.to_jshtml())\n"
      ],
      "execution_count": 19,
      "outputs": [
        {
          "output_type": "stream",
          "text": [
            "CPU times: user 613 ms, sys: 13.7 ms, total: 626 ms\n",
            "Wall time: 638 ms\n"
          ],
          "name": "stdout"
        }
      ]
    },
    {
      "cell_type": "code",
      "metadata": {
        "id": "yLSsqolrO6Hh"
      },
      "source": [
        "# 動画を保存\n",
        "anim.save('movie_maze-random.mp4')"
      ],
      "execution_count": 20,
      "outputs": []
    }
  ]
}