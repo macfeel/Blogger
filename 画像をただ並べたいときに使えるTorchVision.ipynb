{
  "nbformat": 4,
  "nbformat_minor": 0,
  "metadata": {
    "colab": {
      "name": "画像をただ並べたいときに使えるTorchVision.ipynb",
      "provenance": [],
      "toc_visible": true,
      "authorship_tag": "ABX9TyPVrkaw/z7wOF4Ct9NJ6fKO",
      "include_colab_link": true
    },
    "kernelspec": {
      "name": "python3",
      "display_name": "Python 3"
    }
  },
  "cells": [
    {
      "cell_type": "markdown",
      "metadata": {
        "id": "view-in-github",
        "colab_type": "text"
      },
      "source": [
        "<a href=\"https://colab.research.google.com/github/macfeel/Blogger/blob/main/%E7%94%BB%E5%83%8F%E3%82%92%E3%81%9F%E3%81%A0%E4%B8%A6%E3%81%B9%E3%81%9F%E3%81%84%E3%81%A8%E3%81%8D%E3%81%AB%E4%BD%BF%E3%81%88%E3%82%8BTorchVision.ipynb\" target=\"_parent\"><img src=\"https://colab.research.google.com/assets/colab-badge.svg\" alt=\"Open In Colab\"/></a>"
      ]
    },
    {
      "cell_type": "markdown",
      "metadata": {
        "id": "o4oc96_sr0RB"
      },
      "source": [
        "【参照】  \n",
        "[画像をただ並べたいときに使えるTorchVision](https://blog.shikoan.com/torchvision-image-tile/)\n",
        "\n",
        "### 想定状況\n",
        "\n",
        "複数の画像を1枚に縦横に並べて表示したい、画像として保存したいというシチュエーションを想定します。ディープラーニングの場合は、画像を生成するようなモデルで中間結果を出力したいような場合ですね。\n",
        "\n",
        "ただ、画像を並べる処理をそのたびに書いていくと、そこがバグ出やすいですし、コードのかなりの部分が出力生成に使われて見通しが効きにくくなったりします。特に、出力結果を訓練の終わりにだけ出すケースでは、長時間かけて訓練が全部終わり、画像の結合部分でバグが起き、全部おじゃんになるという非常に悲しい結果がある（経験済み）ので、ここらへんの処理はできればコピペ的に進めたいのです。\n",
        "\n",
        "そんなとき便利かもしれないのが、TorchVisionのutilsです。torchvision.utils.make_gridという関数を使うとフルオートで画像を並べてくれます。\n",
        "### 今回使うデータ\n",
        "\n",
        "データを1から作ってみます。以下の9枚の単色塗りつぶしの画像を用意します。"
      ]
    },
    {
      "cell_type": "code",
      "metadata": {
        "id": "Dy8RQ1RirwjU"
      },
      "source": [
        "import torchvision\n",
        "import numpy as np\n",
        "import matplotlib.pyplot as plt\n",
        "import torchvision\n",
        "import torch\n",
        "\n",
        "# 9x9のカラー画像を作る\n",
        "def create_color_images():\n",
        "    images = np.zeros((9, 64, 64, 3), np.uint8) # NHWCのフォーマット\n",
        "    # 0-2 = Red, Green, Blue\n",
        "    images[0,:,:,0]=255\n",
        "    images[1,:,:,1]=255\n",
        "    images[2,:,:,2]=255\n",
        "    # 3-5 = Yellow, Aqua, Fuchsia\n",
        "    images[3,:,:,[0,1]] = 255\n",
        "    images[4,:,:,[1,2]] = 255\n",
        "    images[5,:,:,[0,2]] = 255\n",
        "    # 6-8 = Olive, Teal, Purple\n",
        "    images[6,:,:,[0,1]] = 128\n",
        "    images[7,:,:,[1,2]] = 128\n",
        "    images[8,:,:,[0,2]] = 128\n",
        "    return images"
      ],
      "execution_count": null,
      "outputs": []
    },
    {
      "cell_type": "markdown",
      "metadata": {
        "id": "MD97K2SlsMp1"
      },
      "source": [
        "左上から、「赤、緑、青、黄色、空色、フクシャ、オリーブ、ティール、紫色」の単色で塗った色です。よくあるやり方のように、pyplotのsubplotを使ってプロットしてみましょう。"
      ]
    },
    {
      "cell_type": "code",
      "metadata": {
        "id": "W7PAsKeqsj4s"
      },
      "source": [
        "\t%matplotlib inline"
      ],
      "execution_count": null,
      "outputs": []
    },
    {
      "cell_type": "code",
      "metadata": {
        "id": "vLqFbpFYsNmL"
      },
      "source": [
        "# matplotlibでsubplot結合\n",
        "def raw_pyplot():\n",
        "    # データの読み込み\n",
        "    images = create_color_images()\n",
        "    # subplotを作る\n",
        "    for i in range(images.shape[0]):\n",
        "        ax = plt.subplot(3,3,i+1)\n",
        "        ax.imshow(images[i])\n",
        "        ax.axis(\"off\")\n",
        "    plt.show()"
      ],
      "execution_count": null,
      "outputs": []
    },
    {
      "cell_type": "code",
      "metadata": {
        "colab": {
          "base_uri": "https://localhost:8080/",
          "height": 248
        },
        "id": "0Kc0dTc5tduW",
        "outputId": "895fc6a0-cba2-41de-f4d1-085c00ee184a"
      },
      "source": [
        "raw_pyplot()"
      ],
      "execution_count": null,
      "outputs": [
        {
          "output_type": "display_data",
          "data": {
            "image/png": "[encoded data removed]",
            "text/plain": [
              "<Figure size 432x288 with 9 Axes>"
            ]
          },
          "metadata": {
            "tags": [],
            "needs_background": "light"
          }
        }
      ]
    },
    {
      "cell_type": "markdown",
      "metadata": {
        "id": "tnbebgiEs8y4"
      },
      "source": [
        "だいたいどんなイメージかわかったでしょうか。\n",
        "\n",
        "### TorchVisionで1枚に並べてみる\n",
        "\n",
        "TorchVisionを使って複数の画像を縦横に並べてみます。"
      ]
    },
    {
      "cell_type": "code",
      "metadata": {
        "id": "aOoZOxddtAhw"
      },
      "source": [
        "def torchvision_joint(n_row,n_padding):\n",
        "    # データの読み込み\n",
        "    images = create_color_images()\n",
        "    # PyTorch用に, NHWC -> NCHW に変換\n",
        "    images = np.transpose(images, [0,3,1,2])\n",
        "    # PyTorchのテンソルにする（Numpy配列から作る場合はtorch.Tensorよりas_tensorのほうが良い）\n",
        "    images_tensor = torch.as_tensor(images)\n",
        "    # 一つの画像に統合\n",
        "    # paddingの値→隙間, nrow=行あたりの画像数（端数は埋められる）\n",
        "    joined_images_tensor = torchvision.utils.make_grid(\n",
        "        images_tensor, nrow=n_row, padding=n_padding)\n",
        "    # PyTorchのテンソル→Numpy配列\n",
        "    joined_images = joined_images_tensor.numpy()\n",
        "    # NCHW -> NHWCに変換\n",
        "    return np.transpose(joined_images, [1,2,0])\n",
        "\n",
        "def torchvision_plot(n_row,n_padding):\n",
        "    jointed = torchvision_joint(n_row,n_padding)\n",
        "    plt.imshow(jointed)\n",
        "    plt.show()"
      ],
      "execution_count": null,
      "outputs": []
    },
    {
      "cell_type": "code",
      "metadata": {
        "colab": {
          "base_uri": "https://localhost:8080/",
          "height": 269
        },
        "id": "PYZCWuVktQbX",
        "outputId": "c4fad275-be7c-4f4d-d99d-6b6e7b8a2256"
      },
      "source": [
        "torchvision_plot(3,10)"
      ],
      "execution_count": null,
      "outputs": [
        {
          "output_type": "display_data",
          "data": {
            "image/png": "[encoded data removed]",
            "text/plain": [
              "<Figure size 432x288 with 1 Axes>"
            ]
          },
          "metadata": {
            "tags": [],
            "needs_background": "light"
          }
        }
      ]
    },
    {
      "cell_type": "markdown",
      "metadata": {
        "id": "DBettycGtsjV"
      },
      "source": [
        "慣れない書き方なので順にコードを解説しましょう。まず入力は4次元のNumpy配列です。それぞれの軸は（どのサンプルか=N, 高さ=Height, 横=Width, カラーチャンネル=C）となります。Numpy配列の形式はuint8です。Pillowのインスタンスをnp.asarrayでNumpy配列に変換したときは1枚あたりがこの形式になります。正確にいうと、(H, W, C)の形式になるのでそれを束ねて4次元にしたものがこれです。\n",
        "\n",
        "次に、テンソルの定義をPyTorchに合わせます。(N, H, W, C)を(N, C, H, W)に変換します。これはnp.transposeという関数でいけます。2番目の引数ですが、「0,3,1,2」は入れ替え前の軸のインデックスを、入れ替え後の並びになるように指定したものです。Nは変わらないので0, 次は元のインデックス3だったC、その次は元のインデックスが2だったH……。という具合です。\n",
        "\n",
        "その次はPyTorchのテンソルに変換します。ここがちょっと面倒ですが、make_grid関数は生のNumpy配列を受け付けてくれないので、一回PyTorchのテンソルを経由させる必要があります。ただし、torch.Tensorでやったらfloat型にキャストされてしまい、pyplotでの表示上の明度が均一化されてしまったことがある（TorchVision:0.2.2, PyTorch:1.1.0）ので、Numpy配列から作る場合はtorch.as_tensorのほうが良さそうです。\n",
        "\n",
        "次が本番のtorchvision.utils.make_gridの関数です。この関数によって複数の画像が1枚に合成され、縦横にタイルされます。n_rowはタイル1行あたりに表示する画像数、paddingは表示の間隔ですね（これはあとで変えて確かめてみます）。タイルする画像は全て同じ解像度である必要があります。\n",
        "\n",
        "ただし、make_gridの返り値はPyTorchのテンソルなので、Numpy配列に戻します。「.numpy()」で一発です。\n",
        "\n",
        "そして最初に(N, H, W, C)を(N, C, H, W)に変換したのを思い出しましょう。この逆変換をします。ただし、複数の画像が1枚に統合されているので、実際にやる作業は「(C, H, W)→(H, W, C)の変換」です。Hは元のインデックス1、Wはインデックス2、Cは0なので、np.transposeの2番目の引数は「1,2,0」となります。これで結合が終わりです。\n",
        "### n_rowの値を変えると1行あたりの画像数が簡単に変更できる\n",
        "\n",
        "コードの解説を読んで「逆に面倒臭いな」と思ったかもしれません。ここからがtorchvisionのすごいところなのですが、n_rowの引数を変えるだけで1行あたりの画像数が簡単に変更できます。make_gridのn_rowを2に変えてみました。"
      ]
    },
    {
      "cell_type": "code",
      "metadata": {
        "colab": {
          "base_uri": "https://localhost:8080/",
          "height": 269
        },
        "id": "jNgHCX5WxWlU",
        "outputId": "6df462cf-1d80-4dad-def2-eff45700d803"
      },
      "source": [
        "torchvision_plot(2,10)"
      ],
      "execution_count": null,
      "outputs": [
        {
          "output_type": "display_data",
          "data": {
            "image/png": "[encoded data removed]",
            "text/plain": [
              "<Figure size 432x288 with 1 Axes>"
            ]
          },
          "metadata": {
            "tags": [],
            "needs_background": "light"
          }
        }
      ]
    },
    {
      "cell_type": "markdown",
      "metadata": {
        "id": "6hVrQbSfuGgI"
      },
      "source": [
        "これはなかなかすごいです。n_row以外のコードは一切変えていません。端数分はいい感じに調整してくれます。\n",
        "\n",
        "もしNumpy配列で1枚の黒塗り画像を用意して、逐一コピーしていたら、行列のインデックスがかなりややこしくなると思います（特に隙間の管理）。それを逐一デバッグするのは面倒ですよね？\n",
        "### paddingの値を変えると画像間の間隔が変更できる\n",
        "\n",
        "同様にして、make_gridのpaddingの値を30に変えてみました。"
      ]
    },
    {
      "cell_type": "code",
      "metadata": {
        "colab": {
          "base_uri": "https://localhost:8080/",
          "height": 269
        },
        "id": "lXVfbNhtxOPn",
        "outputId": "db5d6c35-98e7-445e-b7a0-3cf4f5964adb"
      },
      "source": [
        "torchvision_plot(3,30)"
      ],
      "execution_count": null,
      "outputs": [
        {
          "output_type": "display_data",
          "data": {
            "image/png": "[encoded data removed]",
            "text/plain": [
              "<Figure size 432x288 with 1 Axes>"
            ]
          },
          "metadata": {
            "tags": [],
            "needs_background": "light"
          }
        }
      ]
    },
    {
      "cell_type": "markdown",
      "metadata": {
        "id": "ZZS89XpBxmKN"
      },
      "source": [
        "隙間が広くなりましたね。簡単です。\n",
        "### 結合した画像を保存する場合\n",
        "\n",
        "この方法でTorchVisionが最も効果を発揮するのは、結合した画像をファイルに保存する場合です。表示する場合よりコードが簡潔になります。\n",
        "\n",
        "make_gridで1枚のNumpy配列を作って、それをPillowで変換して…ってやってもいいですが、純粋にtorchvision.utils.save_imageを使いましょう。内部でやっていることは、make_gridそのままで、PyTorchのテンソルからファイルの保存までを一発でやってくれます。"
      ]
    },
    {
      "cell_type": "code",
      "metadata": {
        "id": "0mj5Ns9GxtZm"
      },
      "source": [
        "def torchvision_save():\n",
        "    # データの読み込み\n",
        "    images = create_color_images()\n",
        "    # save_imageで255掛けるため[0,1]スケールにしておく\n",
        "    images = (images / 255.0).astype(np.float32)\n",
        "    # 1枚に結合\n",
        "    images = np.transpose(images, [0,3,1,2])\n",
        "    images_tensor = torch.as_tensor(images)\n",
        "    torchvision.utils.save_image(images_tensor, \"jointed_image.png\",\n",
        "                                 nrow=3, padding=10)"
      ],
      "execution_count": null,
      "outputs": []
    },
    {
      "cell_type": "code",
      "metadata": {
        "id": "askbUN8xxy_Q"
      },
      "source": [
        "torchvision_save()"
      ],
      "execution_count": null,
      "outputs": []
    }
  ]
}